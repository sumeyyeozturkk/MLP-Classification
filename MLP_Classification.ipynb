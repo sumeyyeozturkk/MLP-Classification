{
  "nbformat": 4,
  "nbformat_minor": 0,
  "metadata": {
    "colab": {
      "name": "MLP-Classification.ipynb",
      "provenance": [],
      "collapsed_sections": []
    },
    "kernelspec": {
      "name": "python3",
      "display_name": "Python 3"
    }
  },
  "cells": [
    {
      "cell_type": "code",
      "metadata": {
        "id": "sshqho1Sljf5"
      },
      "source": [
        "import pandas as pd\n",
        "import numpy as np\n",
        "from sklearn.metrics import confusion_matrix"
      ],
      "execution_count": null,
      "outputs": []
    },
    {
      "cell_type": "markdown",
      "metadata": {
        "id": "Q2gnY7tqM0mR"
      },
      "source": [
        "# Read Data set"
      ]
    },
    {
      "cell_type": "code",
      "metadata": {
        "id": "A7UgOk72lvAh"
      },
      "source": [
        "train_path = \"/content/optdigits.tra\" \n",
        "df_train = pd.read_csv(train_path, header=None)\n",
        "\n",
        "test_path = \"/content/optdigits.tes\"\n",
        "df_test = pd.read_csv(test_path, header = None)\n"
      ],
      "execution_count": null,
      "outputs": []
    },
    {
      "cell_type": "code",
      "metadata": {
        "id": "EXRjwBbPl7tq"
      },
      "source": [
        "X_train = df_train[np.arange(64)] #Train Data without class label\n",
        "Y_train = df_train[64] #Class Label"
      ],
      "execution_count": null,
      "outputs": []
    },
    {
      "cell_type": "code",
      "metadata": {
        "id": "SQFihm6xmNUd"
      },
      "source": [
        "X_test = df_test[np.arange(64)] #Test Data without class label\n",
        "Y_test = df_test[64] #Class Label"
      ],
      "execution_count": null,
      "outputs": []
    },
    {
      "cell_type": "markdown",
      "metadata": {
        "id": "6HsuU0atMk6O"
      },
      "source": [
        "#Standardization of the data set"
      ]
    },
    {
      "cell_type": "code",
      "metadata": {
        "id": "dC0qcWdjANxY"
      },
      "source": [
        "X_train = (X_train - np.mean(X_train)) / (np.std(X_train) + 1e-8)\n",
        "X_test =  (X_test - np.mean(X_test)) / (np.std(X_test) + 1e-8)"
      ],
      "execution_count": null,
      "outputs": []
    },
    {
      "cell_type": "markdown",
      "metadata": {
        "id": "q1fTwqSlM4h8"
      },
      "source": [
        "# One hot encoding Class labels"
      ]
    },
    {
      "cell_type": "code",
      "metadata": {
        "id": "IHGbflj0tKFx"
      },
      "source": [
        "y_train = np.zeros((Y_train.size, int(Y_train.max()) + 1))\n",
        "y_train[np.arange(Y_train.size),Y_train.astype(np.int)] = 1.0\n",
        "\n",
        "y_test = np.zeros((Y_test.size, int(Y_test.max()) + 1))\n",
        "y_test[np.arange(Y_test.size),Y_test.astype(np.int)] = 1.0"
      ],
      "execution_count": null,
      "outputs": []
    },
    {
      "cell_type": "markdown",
      "metadata": {
        "id": "owuRnqTJOJ8G"
      },
      "source": [
        "# Tanh Activation Function"
      ]
    },
    {
      "cell_type": "code",
      "metadata": {
        "id": "S-NIkcUlnB7U"
      },
      "source": [
        "def tanh_activation(x):\n",
        "  return (np.exp(x) - np.exp(-x)) / (np.exp(x) + np.exp(-x))"
      ],
      "execution_count": null,
      "outputs": []
    },
    {
      "cell_type": "markdown",
      "metadata": {
        "id": "azswsEAvONKS"
      },
      "source": [
        "# Cross Entropy Loss Function"
      ]
    },
    {
      "cell_type": "code",
      "metadata": {
        "id": "wwrMss_q4fv5"
      },
      "source": [
        "def cross_entropy_loss(y_actual,y_pred):\n",
        "  m = y_actual.shape[1]\n",
        "  cross_entropy_loss = -1/m * (np.sum(np.multiply(y_actual,np.log(y_pred)) \n",
        "                      + np.multiply((1 - y_actual), np.log(1 - y_pred))))\n",
        "  return np.squeeze(cross_entropy_loss)"
      ],
      "execution_count": null,
      "outputs": []
    },
    {
      "cell_type": "markdown",
      "metadata": {
        "id": "AzghdzRuOP3H"
      },
      "source": [
        "# Softmax Function"
      ]
    },
    {
      "cell_type": "code",
      "metadata": {
        "id": "zISvF8APVSmt"
      },
      "source": [
        "def softmax(s):\n",
        "  exps = np.exp(s - np.max(s))\n",
        "  return exps/np.sum(exps,axis=0,keepdims=True)"
      ],
      "execution_count": null,
      "outputs": []
    },
    {
      "cell_type": "markdown",
      "metadata": {
        "id": "YZtmwRxpOTxy"
      },
      "source": [
        "#Initialize First Parameters"
      ]
    },
    {
      "cell_type": "code",
      "metadata": {
        "id": "4A1F7aExQaVX"
      },
      "source": [
        "def initialize_parameters(n_input_units,n_hidden_units,n_output_units):\n",
        "  np.random.seed(1)\n",
        "\n",
        "  #Hidden layer weights and bias\n",
        "  W_hid = np.random.randn(n_hidden_units, n_input_units)* 0.01\n",
        "  b_hid = np.zeros((n_hidden_units,1)) \n",
        "\n",
        "  #Output layer weights and bias\n",
        "  W_out = np.random.randn(n_output_units, n_hidden_units)* 0.01 \n",
        "  b_out = np.zeros((n_output_units,1))\n",
        "\n",
        "  parameters = {\"W_hid\" : W_hid,\n",
        "                        \"b_hid\" : b_hid,\n",
        "                        \"W_out\" : W_out,\n",
        "                        \"b_out\" : b_out}\n",
        "\n",
        "  return parameters"
      ],
      "execution_count": null,
      "outputs": []
    },
    {
      "cell_type": "markdown",
      "metadata": {
        "id": "NYisakXnOZsi"
      },
      "source": [
        "# Forward Propagation"
      ]
    },
    {
      "cell_type": "code",
      "metadata": {
        "id": "0xaiVdehP1WN"
      },
      "source": [
        "def forward_propagation(X_train,parameters):\n",
        "\n",
        "    hidden_val = np.dot(parameters[\"W_hid\"],X_train) + parameters[\"b_hid\"]\n",
        "    hidden_activation = tanh_activation(hidden_val)\n",
        "\n",
        "    output_val = np.dot(parameters[\"W_out\"],hidden_activation)+ parameters[\"b_out\"]\n",
        "    output_softmax = softmax(output_val)\n",
        "\n",
        "\n",
        "\n",
        "    save_vals = {'hidden_val': hidden_val,\n",
        "                 'hidden_activation': hidden_activation,\n",
        "                 'output_val': output_val,\n",
        "                 'output_softmax': output_softmax}\n",
        "    \n",
        "    return output_softmax , save_vals"
      ],
      "execution_count": null,
      "outputs": []
    },
    {
      "cell_type": "markdown",
      "metadata": {
        "id": "ochT473NOcrq"
      },
      "source": [
        "# Backward Propagation"
      ]
    },
    {
      "cell_type": "code",
      "metadata": {
        "id": "zF8eUoT5cift"
      },
      "source": [
        "def backward_propagation(X_train,y_train,parameters,forward_save_parameters,batch_size):\n",
        "    m = X_train.shape[1]\n",
        "    \n",
        "    output = forward_save_parameters[\"output_softmax\"]- y_train\n",
        "    deriv_output_w = np.dot(output, forward_save_parameters[\"hidden_activation\"].T)/batch_size\n",
        "    deriv_output_b = np.sum(output, axis=1, keepdims=True) / batch_size\n",
        "\n",
        "    deriv_hidden = np.dot(parameters[\"W_out\"].T, output) * (1 - np.power(forward_save_parameters[\"hidden_val\"], 2))\n",
        "    deriv_hidden_w = np.dot(deriv_hidden, X_train.T) /batch_size\n",
        "    deriv_hidden_b = np.sum(deriv_hidden, axis=1, keepdims=True) / batch_size\n",
        "\n",
        "    gradients = {'deriv_hidden_w': deriv_hidden_w,\n",
        "                 'deriv_hidden_b': deriv_hidden_b,\n",
        "                 'deriv_output_w': deriv_output_w,\n",
        "                 'deriv_output_b': deriv_output_b}\n",
        "    \n",
        "    return gradients"
      ],
      "execution_count": null,
      "outputs": []
    },
    {
      "cell_type": "markdown",
      "metadata": {
        "id": "tfXmq__FOf_k"
      },
      "source": [
        "# Update Parameters"
      ]
    },
    {
      "cell_type": "code",
      "metadata": {
        "id": "L8g-LUthgIsc"
      },
      "source": [
        "def update_parameters(parameters, gradients, learning_rate = 0.001):\n",
        "\n",
        "    W_hid = parameters[\"W_hid\"] - learning_rate * gradients[\"deriv_hidden_w\"]\n",
        "    b_hid = parameters[\"b_hid\"] - learning_rate * gradients[\"deriv_hidden_b\"]\n",
        "    W_out = parameters[\"W_out\"] - learning_rate * gradients[\"deriv_output_w\"]\n",
        "    b_out = parameters[\"b_out\"] - learning_rate * gradients[\"deriv_output_b\"]\n",
        "\n",
        "    update_parameters = {\"W_hid\" : W_hid,\n",
        "                        \"b_hid\" : b_hid,\n",
        "                        \"W_out\" : W_out,\n",
        "                        \"b_out\" : b_out}\n",
        "    \n",
        "    return update_parameters"
      ],
      "execution_count": null,
      "outputs": []
    },
    {
      "cell_type": "markdown",
      "metadata": {
        "id": "6B1hzZa2OiX4"
      },
      "source": [
        "# Create Mini-Batchs"
      ]
    },
    {
      "cell_type": "code",
      "metadata": {
        "id": "ZCPbQp7eH6Tm"
      },
      "source": [
        "def create_batchs(X_train,y_train,batch_size):\n",
        "    batch_x = []\n",
        "    batch_y = []\n",
        "\n",
        "    len_data = len(X_train)\n",
        "    for i in range(0, len_data, batch_size):\n",
        "        if i + batch_size <= len_data:\n",
        "            batch_x.append(X_train[i:i+batch_size])\n",
        "            batch_y.append(y_train[i:i+batch_size])\n",
        "        else:\n",
        "            batch_x.append(X_train[i:])\n",
        "            batch_y.append(y_train[i:])\n",
        "    return batch_x,batch_y"
      ],
      "execution_count": null,
      "outputs": []
    },
    {
      "cell_type": "markdown",
      "metadata": {
        "id": "oV-lcByLOvNb"
      },
      "source": [
        "# Calculate Accuracy"
      ]
    },
    {
      "cell_type": "code",
      "metadata": {
        "id": "m9ESgQshqxb8"
      },
      "source": [
        "def accuracy(y_pred, y_train):  \n",
        "  return np.all(y_pred == y_train, axis=1).mean()"
      ],
      "execution_count": null,
      "outputs": []
    },
    {
      "cell_type": "markdown",
      "metadata": {
        "id": "zhXTmMAnO1qN"
      },
      "source": [
        "# Transform output values to categorical \n",
        "\n",
        "\n"
      ]
    },
    {
      "cell_type": "code",
      "metadata": {
        "id": "QedLvByg0sFd"
      },
      "source": [
        "def to_categorical(x):  \n",
        "    # Transform probabilities into categorical predictions row-wise, by simply taking the max probability\n",
        "    categorical = np.zeros((x.shape[0],x.shape[1]))\n",
        "    categorical[np.arange(x.shape[0]),x.argmax(axis=1)] = 1\n",
        "    return categorical"
      ],
      "execution_count": null,
      "outputs": []
    },
    {
      "cell_type": "markdown",
      "metadata": {
        "id": "VUVQj7SlPIDi"
      },
      "source": [
        "# Train Data with multiple epochs and using mini-batch"
      ]
    },
    {
      "cell_type": "code",
      "metadata": {
        "id": "Ydm29E3vIhgF"
      },
      "source": [
        "def MLP_train(X_train, y_train, n_input_unit, n_hidden_unit,n_output_unit,batch_size,epochs = 300):\n",
        "\n",
        "  parameters = initialize_parameters(n_input_unit, n_hidden_unit, n_output_unit)\n",
        "  batch_X, batch_Y = create_batchs(X_train,y_train,batch_size)\n",
        "  \n",
        "  for epoch in range(epochs):\n",
        "    cost = 0\n",
        "    train_acc = 0\n",
        "    for batch_x, batch_y in zip(batch_X,batch_Y):\n",
        "\n",
        "      output_softmax , save_vals = forward_propagation(batch_x.T, parameters) #Feed forward\n",
        "      cost += cross_entropy_loss(batch_y.T,output_softmax + 1e-10) #Calculate loss\n",
        "      train_acc += accuracy(to_categorical(output_softmax.T),batch_y) #Calculate Accuracy\n",
        "      gradients = backward_propagation(batch_x.T,batch_y.T,parameters,save_vals,batch_size) #Backward\n",
        "      \n",
        "      parameters = update_parameters(parameters, gradients) #Update parameters\n",
        "    \n",
        "    cost = (cost/len(batch_X))\n",
        "    train_acc = (train_acc/len(batch_X))\n",
        "    print(f\"Epoch {epoch+1}: loss = {cost} | acc = {train_acc}\")\n",
        "    \n",
        "  return parameters"
      ],
      "execution_count": null,
      "outputs": []
    },
    {
      "cell_type": "markdown",
      "metadata": {
        "id": "Cm-h3-HMq2gL"
      },
      "source": [
        "# Learn parameters on train dataset\n",
        "\n",
        "- Number of Input Units: 64\n",
        "- Number of Hidden Layer: 1\n",
        "- Number of Hidden Layer Units: 64\n",
        "- Number of Output Units: 10\n",
        "- Batch Size: 64\n",
        "- Epoch : 300\n",
        " "
      ]
    },
    {
      "cell_type": "code",
      "metadata": {
        "colab": {
          "base_uri": "https://localhost:8080/"
        },
        "id": "vMJCcjAbO5Cd",
        "outputId": "2a9a449a-3ce5-4128-be34-114f2ba1f3f4"
      },
      "source": [
        "parameters = MLP_train(X_train, y_train, 64, 64,10,64)"
      ],
      "execution_count": null,
      "outputs": [
        {
          "output_type": "stream",
          "text": [
            "Epoch 1: loss = 3.2489090885508793 | acc = 0.12227393617021276\n",
            "Epoch 2: loss = 3.2471791320224783 | acc = 0.17175310283687942\n",
            "Epoch 3: loss = 3.2454330075595976 | acc = 0.24177748226950355\n",
            "Epoch 4: loss = 3.243662392679798 | acc = 0.3264350620567376\n",
            "Epoch 5: loss = 3.2418588660060355 | acc = 0.416938164893617\n",
            "Epoch 6: loss = 3.2400138657565787 | acc = 0.49882535460992905\n",
            "Epoch 7: loss = 3.238118648807417 | acc = 0.5628158244680851\n",
            "Epoch 8: loss = 3.2361642502983523 | acc = 0.6136912677304964\n",
            "Epoch 9: loss = 3.234141443791368 | acc = 0.6551196808510638\n",
            "Epoch 10: loss = 3.2320407020310475 | acc = 0.6812555407801419\n",
            "Epoch 11: loss = 3.2298521584024216 | acc = 0.7082668439716312\n",
            "Epoch 12: loss = 3.227565569231944 | acc = 0.7267564273049646\n",
            "Epoch 13: loss = 3.2251702771329422 | acc = 0.7350897606382979\n",
            "Epoch 14: loss = 3.222655175657863 | acc = 0.7443705673758866\n",
            "Epoch 15: loss = 3.220008675586229 | acc = 0.7487976507092199\n",
            "Epoch 16: loss = 3.2172186732494423 | acc = 0.7527039007092199\n",
            "Epoch 17: loss = 3.21427252137091 | acc = 0.7539117907801419\n",
            "Epoch 18: loss = 3.211157002982091 | acc = 0.7557347074468086\n",
            "Epoch 19: loss = 3.207858309060686 | acc = 0.7569425975177304\n",
            "Epoch 20: loss = 3.204362020625241 | acc = 0.7561613475177305\n",
            "Epoch 21: loss = 3.200653096108535 | acc = 0.7561613475177305\n",
            "Epoch 22: loss = 3.196715864918103 | acc = 0.7538175975177305\n",
            "Epoch 23: loss = 3.1925340281724774 | acc = 0.7522550975177305\n",
            "Epoch 24: loss = 3.188090667672685 | acc = 0.7501717641843971\n",
            "Epoch 25: loss = 3.1833682642250927 | acc = 0.7480884308510638\n",
            "Epoch 26: loss = 3.1783487264688515 | acc = 0.7456504875886524\n",
            "Epoch 27: loss = 3.1730134313727705 | acc = 0.7425254875886524\n",
            "Epoch 28: loss = 3.167343277545893 | acc = 0.7403479609929078\n",
            "Epoch 29: loss = 3.161318752446898 | acc = 0.7385250443262411\n",
            "Epoch 30: loss = 3.1549200144727103 | acc = 0.7332225177304964\n",
            "Epoch 31: loss = 3.148126990750322 | acc = 0.7308787677304964\n",
            "Epoch 32: loss = 3.1409194912425478 | acc = 0.7272329343971631\n",
            "Epoch 33: loss = 3.1332773395041893 | acc = 0.7235871010638297\n",
            "Epoch 34: loss = 3.1251805200885356 | acc = 0.7225454343971631\n",
            "Epoch 35: loss = 3.1166093422058907 | acc = 0.7194204343971631\n",
            "Epoch 36: loss = 3.107544618780453 | acc = 0.7168162677304964\n",
            "Epoch 37: loss = 3.0979678595472233 | acc = 0.7147329343971631\n",
            "Epoch 38: loss = 3.0878614762889254 | acc = 0.7095246010638298\n",
            "Epoch 39: loss = 3.077208997750348 | acc = 0.704576684397163\n",
            "Epoch 40: loss = 3.0659952912043367 | acc = 0.7001496010638297\n",
            "Epoch 41: loss = 3.0542067871034875 | acc = 0.6959829343971631\n",
            "Epoch 42: loss = 3.0418317027607307 | acc = 0.6915558510638298\n",
            "Epoch 43: loss = 3.0288602605877033 | acc = 0.688951684397163\n",
            "Epoch 44: loss = 3.0152848961099314 | acc = 0.6868683510638297\n",
            "Epoch 45: loss = 3.0011004507974985 | acc = 0.685045434397163\n",
            "Epoch 46: loss = 2.986304344721273 | acc = 0.6824412677304964\n",
            "Epoch 47: loss = 2.9708967241841933 | acc = 0.6795766843971631\n",
            "Epoch 48: loss = 2.9548805797942848 | acc = 0.6777537677304964\n",
            "Epoch 49: loss = 2.9382618309420203 | acc = 0.6746287677304964\n",
            "Epoch 50: loss = 2.921049373311736 | acc = 0.6715037677304964\n",
            "Epoch 51: loss = 2.9032550868779 | acc = 0.6707225177304964\n",
            "Epoch 52: loss = 2.884893802786143 | acc = 0.669420434397163\n",
            "Epoch 53: loss = 2.8659832285622455 | acc = 0.6681183510638298\n",
            "Epoch 54: loss = 2.846543832189877 | acc = 0.6657746010638298\n",
            "Epoch 55: loss = 2.826598686705261 | acc = 0.6642121010638298\n",
            "Epoch 56: loss = 2.806173278029058 | acc = 0.6626496010638298\n",
            "Epoch 57: loss = 2.785295279747219 | acc = 0.6618683510638298\n",
            "Epoch 58: loss = 2.763994299423062 | acc = 0.6597850177304964\n",
            "Epoch 59: loss = 2.742301601736706 | acc = 0.6600454343971631\n",
            "Epoch 60: loss = 2.7202498142784566 | acc = 0.6597850177304964\n",
            "Epoch 61: loss = 2.6978726221513645 | acc = 0.6592641843971631\n",
            "Epoch 62: loss = 2.675204457656665 | acc = 0.657701684397163\n",
            "Epoch 63: loss = 2.652280191245696 | acc = 0.6582225177304964\n",
            "Epoch 64: loss = 2.6291348296338324 | acc = 0.6590037677304964\n",
            "Epoch 65: loss = 2.605803226504982 | acc = 0.6592641843971631\n",
            "Epoch 66: loss = 2.582319810615443 | acc = 0.6600454343971631\n",
            "Epoch 67: loss = 2.558718335364543 | acc = 0.6613475177304964\n",
            "Epoch 68: loss = 2.5350316530718846 | acc = 0.661607934397163\n",
            "Epoch 69: loss = 2.511291516323921 | acc = 0.6621287677304964\n",
            "Epoch 70: loss = 2.487528407863695 | acc = 0.6623891843971631\n",
            "Epoch 71: loss = 2.4637713996321833 | acc = 0.6634308510638297\n",
            "Epoch 72: loss = 2.440048040760841 | acc = 0.6644725177304964\n",
            "Epoch 73: loss = 2.416384273590769 | acc = 0.665514184397163\n",
            "Epoch 74: loss = 2.392804376176291 | acc = 0.6670766843971631\n",
            "Epoch 75: loss = 2.3693309292359146 | acc = 0.6686391843971631\n",
            "Epoch 76: loss = 2.345984805149151 | acc = 0.6712433510638297\n",
            "Epoch 77: loss = 2.322785176364994 | acc = 0.6730662677304964\n",
            "Epoch 78: loss = 2.299749540480563 | acc = 0.6743683510638298\n",
            "Epoch 79: loss = 2.2768937592544662 | acc = 0.6761912677304964\n",
            "Epoch 80: loss = 2.2542321089219395 | acc = 0.6780141843971631\n",
            "Epoch 81: loss = 2.231777339357474 | acc = 0.681139184397163\n",
            "Epoch 82: loss = 2.209540739863973 | acc = 0.6834829343971631\n",
            "Epoch 83: loss = 2.1875322096338143 | acc = 0.6858266843971631\n",
            "Epoch 84: loss = 2.1657603312069447 | acc = 0.6881704343971631\n",
            "Epoch 85: loss = 2.144232445527154 | acc = 0.6907746010638297\n",
            "Epoch 86: loss = 2.1229547274569023 | acc = 0.6936391843971631\n",
            "Epoch 87: loss = 2.10193226084398 | acc = 0.6959829343971631\n",
            "Epoch 88: loss = 2.0811691124347704 | acc = 0.6970246010638298\n",
            "Epoch 89: loss = 2.060668404096918 | acc = 0.7001496010638297\n",
            "Epoch 90: loss = 2.040432382950138 | acc = 0.7022329343971631\n",
            "Epoch 91: loss = 2.020462489110773 | acc = 0.7050975177304964\n",
            "Epoch 92: loss = 2.0007594208381176 | acc = 0.7072750443262411\n",
            "Epoch 93: loss = 1.9813231969335434 | acc = 0.7080562943262411\n",
            "Epoch 94: loss = 1.9621532162919662 | acc = 0.710400044326241\n",
            "Epoch 95: loss = 1.943248314543571 | acc = 0.7127437943262411\n",
            "Epoch 96: loss = 1.9246068177554563 | acc = 0.7158687943262411\n",
            "Epoch 97: loss = 1.906226593190489 | acc = 0.7197750443262411\n",
            "Epoch 98: loss = 1.888105097145656 | acc = 0.722118794326241\n",
            "Epoch 99: loss = 1.870239419915408 | acc = 0.7259530141843971\n",
            "Epoch 100: loss = 1.8526263279468755 | acc = 0.7292664007092199\n",
            "Epoch 101: loss = 1.8352623032731585 | acc = 0.7316101507092199\n",
            "Epoch 102: loss = 1.8181435803275714 | acc = 0.73395390070922\n",
            "Epoch 103: loss = 1.801266180255247 | acc = 0.7368184840425532\n",
            "Epoch 104: loss = 1.7846259428483828 | acc = 0.7399434840425533\n",
            "Epoch 105: loss = 1.7682185562374426 | acc = 0.7435893173758866\n",
            "Epoch 106: loss = 1.75203958447276 | acc = 0.74567265070922\n",
            "Epoch 107: loss = 1.7360844931294979 | acc = 0.7498393173758866\n",
            "Epoch 108: loss = 1.7203486730642046 | acc = 0.7542664007092199\n",
            "Epoch 109: loss = 1.7048274624438235 | acc = 0.7568705673758865\n",
            "Epoch 110: loss = 1.6895161671587475 | acc = 0.7602559840425532\n",
            "Epoch 111: loss = 1.6744100797209365 | acc = 0.7641622340425532\n",
            "Epoch 112: loss = 1.6595044967370158 | acc = 0.7665059840425532\n",
            "Epoch 113: loss = 1.6447947350352414 | acc = 0.76911015070922\n",
            "Epoch 114: loss = 1.6302761465147588 | acc = 0.7727559840425532\n",
            "Epoch 115: loss = 1.6159441317761178 | acc = 0.7761414007092199\n",
            "Epoch 116: loss = 1.6017941525838386 | acc = 0.7779643173758866\n",
            "Epoch 117: loss = 1.5878217432050483 | acc = 0.78082890070922\n",
            "Epoch 118: loss = 1.5740225206629712 | acc = 0.78473515070922\n",
            "Epoch 119: loss = 1.5603921939402703 | acc = 0.7881205673758865\n",
            "Epoch 120: loss = 1.5469265721647847 | acc = 0.7896830673758866\n",
            "Epoch 121: loss = 1.533621571809003 | acc = 0.7951518173758866\n",
            "Epoch 122: loss = 1.5204732229344058 | acc = 0.7980164007092199\n",
            "Epoch 123: loss = 1.5074776745124043 | acc = 0.8007147606382979\n",
            "Epoch 124: loss = 1.4946311988548866 | acc = 0.8039339539007092\n",
            "Epoch 125: loss = 1.4819301951890127 | acc = 0.8073193705673759\n",
            "Epoch 126: loss = 1.4693711924128767 | acc = 0.8096631205673759\n",
            "Epoch 127: loss = 1.4569508510706615 | acc = 0.8125277039007093\n",
            "Epoch 128: loss = 1.4446659645879718 | acc = 0.8151318705673759\n",
            "Epoch 129: loss = 1.4325134598099336 | acc = 0.8174756205673759\n",
            "Epoch 130: loss = 1.4204903968863498 | acc = 0.8192985372340426\n",
            "Epoch 131: loss = 1.4085939685496547 | acc = 0.8226839539007093\n",
            "Epoch 132: loss = 1.3968214988325733 | acc = 0.826069370567376\n",
            "Epoch 133: loss = 1.3851704412731738 | acc = 0.8305906471631206\n",
            "Epoch 134: loss = 1.373638376655475 | acc = 0.83416445035461\n",
            "Epoch 135: loss = 1.3622230103338784 | acc = 0.8370290336879432\n",
            "Epoch 136: loss = 1.3509221691894002 | acc = 0.8391123670212767\n",
            "Epoch 137: loss = 1.3397337982650666 | acc = 0.8424977836879433\n",
            "Epoch 138: loss = 1.3286559571268577 | acc = 0.8448415336879432\n",
            "Epoch 139: loss = 1.317686815995219 | acc = 0.8479665336879433\n",
            "Epoch 140: loss = 1.3068246516905677 | acc = 0.8503102836879433\n",
            "Epoch 141: loss = 1.2960678434341615 | acc = 0.8521332003546099\n",
            "Epoch 142: loss = 1.2854148685435354 | acc = 0.85525820035461\n",
            "Epoch 143: loss = 1.2748642980590899 | acc = 0.8565602836879432\n",
            "Epoch 144: loss = 1.2644147923357534 | acc = 0.8583832003546099\n",
            "Epoch 145: loss = 1.254065096630609 | acc = 0.8596852836879433\n",
            "Epoch 146: loss = 1.243814036714307 | acc = 0.86072695035461\n",
            "Epoch 147: loss = 1.2336605145308437 | acc = 0.8620290336879433\n",
            "Epoch 148: loss = 1.2236035039270043 | acc = 0.8641123670212766\n",
            "Epoch 149: loss = 1.2136420464694138 | acc = 0.8667165336879433\n",
            "Epoch 150: loss = 1.203775247363921 | acc = 0.8687998670212767\n",
            "Epoch 151: loss = 1.1940022714887628 | acc = 0.8711436170212766\n",
            "Epoch 152: loss = 1.1843223395499523 | acc = 0.8742686170212767\n",
            "Epoch 153: loss = 1.1747347243643922 | acc = 0.87635195035461\n",
            "Epoch 154: loss = 1.1652387472735846 | acc = 0.8779144503546099\n",
            "Epoch 155: loss = 1.1558337746883574 | acc = 0.88025820035461\n",
            "Epoch 156: loss = 1.1465192147629535 | acc = 0.8820811170212767\n",
            "Epoch 157: loss = 1.1372945141949913 | acc = 0.88416445035461\n",
            "Epoch 158: loss = 1.1281591551463654 | acc = 0.88650820035461\n",
            "Epoch 159: loss = 1.1191126522790222 | acc = 0.888425310283688\n",
            "Epoch 160: loss = 1.1101545498987675 | acc = 0.8905086436170213\n",
            "Epoch 161: loss = 1.101284419199833 | acc = 0.8918107269503547\n",
            "Epoch 162: loss = 1.0925018556028006 | acc = 0.8957169769503547\n",
            "Epoch 163: loss = 1.0838064761786659 | acc = 0.8973736702127659\n",
            "Epoch 164: loss = 1.0751979171522803 | acc = 0.8991965868794326\n",
            "Epoch 165: loss = 1.066675831479086 | acc = 0.900498670212766\n",
            "Epoch 166: loss = 1.058239886489953 | acc = 0.9015403368794327\n",
            "Epoch 167: loss = 1.0498897615999456 | acc = 0.902061170212766\n",
            "Epoch 168: loss = 1.041625146078019 | acc = 0.9025820035460993\n",
            "Epoch 169: loss = 1.0334457368758436 | acc = 0.9041445035460993\n",
            "Epoch 170: loss = 1.0253512365151785 | acc = 0.9051861702127659\n",
            "Epoch 171: loss = 1.017341351034469 | acc = 0.906748670212766\n",
            "Epoch 172: loss = 1.0094157879964567 | acc = 0.907529920212766\n",
            "Epoch 173: loss = 1.0015742545596849 | acc = 0.909873670212766\n",
            "Epoch 174: loss = 0.9938164556177063 | acc = 0.9112699468085107\n",
            "Epoch 175: loss = 0.9861420920105962 | acc = 0.911790780141844\n",
            "Epoch 176: loss = 0.9785508588139875 | acc = 0.9123116134751773\n",
            "Epoch 177: loss = 0.9710424437112892 | acc = 0.9130928634751773\n",
            "Epoch 178: loss = 0.9636165254549972 | acc = 0.914134530141844\n",
            "Epoch 179: loss = 0.9562727724230663 | acc = 0.9154366134751774\n",
            "Epoch 180: loss = 0.949010841276167 | acc = 0.917259530141844\n",
            "Epoch 181: loss = 0.9418303757213723 | acc = 0.9175199468085107\n",
            "Epoch 182: loss = 0.9347310053873185 | acc = 0.9177803634751773\n",
            "Epoch 183: loss = 0.9277123448152822 | acc = 0.9198636968085107\n",
            "Epoch 184: loss = 0.9207739925698644 | acc = 0.9206449468085106\n",
            "Epoch 185: loss = 0.9139155304721236 | acc = 0.921165780141844\n",
            "Epoch 186: loss = 0.9071365229570726 | acc = 0.921947030141844\n",
            "Epoch 187: loss = 0.9004365165564734 | acc = 0.9222074468085106\n",
            "Epoch 188: loss = 0.8938150395068408 | acc = 0.9227282801418439\n",
            "Epoch 189: loss = 0.8872716014815706 | acc = 0.9237699468085107\n",
            "Epoch 190: loss = 0.8808056934450783 | acc = 0.9240303634751773\n",
            "Epoch 191: loss = 0.8744167876259006 | acc = 0.9245511968085106\n",
            "Epoch 192: loss = 0.8681043376047846 | acc = 0.9253324468085107\n",
            "Epoch 193: loss = 0.8618677785129678 | acc = 0.925853280141844\n",
            "Epoch 194: loss = 0.8557065273350986 | acc = 0.9263741134751773\n",
            "Epoch 195: loss = 0.8496199833106008 | acc = 0.9279366134751773\n",
            "Epoch 196: loss = 0.8436075284267215 | acc = 0.9284574468085106\n",
            "Epoch 197: loss = 0.8376685279960705 | acc = 0.928978280141844\n",
            "Epoch 198: loss = 0.8318023313111217 | acc = 0.9300199468085106\n",
            "Epoch 199: loss = 0.8260082723679097 | acc = 0.9302803634751773\n",
            "Epoch 200: loss = 0.8202856706510452 | acc = 0.9308011968085107\n",
            "Epoch 201: loss = 0.8146338319721292 | acc = 0.9315824468085107\n",
            "Epoch 202: loss = 0.8090520493537429 | acc = 0.9318428634751773\n",
            "Epoch 203: loss = 0.8035396039513131 | acc = 0.932103280141844\n",
            "Epoch 204: loss = 0.7980957660054082 | acc = 0.9331449468085107\n",
            "Epoch 205: loss = 0.7927197958173066 | acc = 0.933665780141844\n",
            "Epoch 206: loss = 0.7874109447410415 | acc = 0.9341866134751773\n",
            "Epoch 207: loss = 0.7821684561855283 | acc = 0.9341866134751773\n",
            "Epoch 208: loss = 0.7769915666208317 | acc = 0.9344470301418439\n",
            "Epoch 209: loss = 0.7718795065830862 | acc = 0.9344470301418439\n",
            "Epoch 210: loss = 0.7668315016731208 | acc = 0.9347074468085107\n",
            "Epoch 211: loss = 0.7618467735442859 | acc = 0.9354886968085107\n",
            "Epoch 212: loss = 0.7569245408755648 | acc = 0.9362699468085106\n",
            "Epoch 213: loss = 0.7520640203265105 | acc = 0.936790780141844\n",
            "Epoch 214: loss = 0.7472644274711068 | acc = 0.9370511968085107\n",
            "Epoch 215: loss = 0.7425249777081012 | acc = 0.9373116134751773\n",
            "Epoch 216: loss = 0.7378448871459068 | acc = 0.9370511968085107\n",
            "Epoch 217: loss = 0.7332233734605739 | acc = 0.937572030141844\n",
            "Epoch 218: loss = 0.72865965672583 | acc = 0.9378324468085106\n",
            "Epoch 219: loss = 0.7241529602145929 | acc = 0.9383532801418439\n",
            "Epoch 220: loss = 0.7197025111717685 | acc = 0.9383532801418439\n",
            "Epoch 221: loss = 0.7153075415585418 | acc = 0.9393949468085107\n",
            "Epoch 222: loss = 0.7109672887687126 | acc = 0.9393949468085107\n",
            "Epoch 223: loss = 0.7066809963179914 | acc = 0.9396553634751773\n",
            "Epoch 224: loss = 0.7024479145074756 | acc = 0.939915780141844\n",
            "Epoch 225: loss = 0.6982673010628382 | acc = 0.939915780141844\n",
            "Epoch 226: loss = 0.6941384217510472 | acc = 0.9401761968085106\n",
            "Epoch 227: loss = 0.6900605509767151 | acc = 0.9401761968085106\n",
            "Epoch 228: loss = 0.6860329723604247 | acc = 0.9401761968085106\n",
            "Epoch 229: loss = 0.682054979301661 | acc = 0.940697030141844\n",
            "Epoch 230: loss = 0.6781258755291959 | acc = 0.9409574468085107\n",
            "Epoch 231: loss = 0.6742449756420558 | acc = 0.9412178634751773\n",
            "Epoch 232: loss = 0.6704116056444228 | acc = 0.9417386968085106\n",
            "Epoch 233: loss = 0.6666251034780984 | acc = 0.9419991134751773\n",
            "Epoch 234: loss = 0.6628848195564152 | acc = 0.9425199468085107\n",
            "Epoch 235: loss = 0.6591901173037532 | acc = 0.9425199468085107\n",
            "Epoch 236: loss = 0.6555403737051335 | acc = 0.9425199468085107\n",
            "Epoch 237: loss = 0.6519349798706509 | acc = 0.9425199468085107\n",
            "Epoch 238: loss = 0.6483733416198785 | acc = 0.9433011968085107\n",
            "Epoch 239: loss = 0.6448548800917319 | acc = 0.9433011968085107\n",
            "Epoch 240: loss = 0.6413790323856954 | acc = 0.9440824468085106\n",
            "Epoch 241: loss = 0.6379452522407656 | acc = 0.9440824468085106\n",
            "Epoch 242: loss = 0.6345530107589593 | acc = 0.944603280141844\n",
            "Epoch 243: loss = 0.6312017971807806 | acc = 0.944603280141844\n",
            "Epoch 244: loss = 0.6278911197206458 | acc = 0.944603280141844\n",
            "Epoch 245: loss = 0.6246205064709301 | acc = 0.944603280141844\n",
            "Epoch 246: loss = 0.621389506384039 | acc = 0.9452183067375887\n",
            "Epoch 247: loss = 0.6181976903427063 | acc = 0.945739140070922\n",
            "Epoch 248: loss = 0.6150446523296265 | acc = 0.9459995567375886\n",
            "Epoch 249: loss = 0.6119300107084943 | acc = 0.9459995567375886\n",
            "Epoch 250: loss = 0.6088534096296 | acc = 0.9459995567375886\n",
            "Epoch 251: loss = 0.6058145205743103 | acc = 0.9462599734042553\n",
            "Epoch 252: loss = 0.6028130440540169 | acc = 0.9470412234042553\n",
            "Epoch 253: loss = 0.5998487114805617 | acc = 0.9470412234042553\n",
            "Epoch 254: loss = 0.5969212872266058 | acc = 0.9475620567375886\n",
            "Epoch 255: loss = 0.5940305708960625 | acc = 0.948082890070922\n",
            "Epoch 256: loss = 0.5911763998264193 | acc = 0.9483433067375887\n",
            "Epoch 257: loss = 0.5883586518466198 | acc = 0.9486037234042554\n",
            "Epoch 258: loss = 0.5855772483160956 | acc = 0.9486037234042554\n",
            "Epoch 259: loss = 0.5828321574725236 | acc = 0.948864140070922\n",
            "Epoch 260: loss = 0.580123398117895 | acc = 0.9493849734042553\n",
            "Epoch 261: loss = 0.5774510436744698 | acc = 0.948864140070922\n",
            "Epoch 262: loss = 0.5748152266440377 | acc = 0.948864140070922\n",
            "Epoch 263: loss = 0.5722161435055767 | acc = 0.948864140070922\n",
            "Epoch 264: loss = 0.5696540600876715 | acc = 0.9493849734042553\n",
            "Epoch 265: loss = 0.5671293174528319 | acc = 0.9493849734042553\n",
            "Epoch 266: loss = 0.5646423383308616 | acc = 0.9493849734042553\n",
            "Epoch 267: loss = 0.5621936341374921 | acc = 0.9493849734042553\n",
            "Epoch 268: loss = 0.5597838126122985 | acc = 0.949645390070922\n",
            "Epoch 269: loss = 0.5574135861062427 | acc = 0.9499058067375886\n",
            "Epoch 270: loss = 0.555083780543725 | acc = 0.949645390070922\n",
            "Epoch 271: loss = 0.5527953450766139 | acc = 0.9501662234042553\n",
            "Epoch 272: loss = 0.5505493624381435 | acc = 0.9499058067375886\n",
            "Epoch 273: loss = 0.5483470599927038 | acc = 0.9501662234042553\n",
            "Epoch 274: loss = 0.5461898214631821 | acc = 0.9501662234042553\n",
            "Epoch 275: loss = 0.5440791993001493 | acc = 0.950426640070922\n",
            "Epoch 276: loss = 0.5420169276355449 | acc = 0.950426640070922\n",
            "Epoch 277: loss = 0.5400049357346774 | acc = 0.9501662234042553\n",
            "Epoch 278: loss = 0.538045361818212 | acc = 0.9501662234042553\n",
            "Epoch 279: loss = 0.5361405670587343 | acc = 0.9506870567375887\n",
            "Epoch 280: loss = 0.5342931494436576 | acc = 0.9509474734042553\n",
            "Epoch 281: loss = 0.532505957002887 | acc = 0.951207890070922\n",
            "Epoch 282: loss = 0.5307820995709694 | acc = 0.951207890070922\n",
            "Epoch 283: loss = 0.5291249577100805 | acc = 0.9506870567375887\n",
            "Epoch 284: loss = 0.5275381865599875 | acc = 0.950426640070922\n",
            "Epoch 285: loss = 0.5260257111033234 | acc = 0.9501662234042553\n",
            "Epoch 286: loss = 0.524591707614027 | acc = 0.9499058067375886\n",
            "Epoch 287: loss = 0.5232405641155052 | acc = 0.9499058067375886\n",
            "Epoch 288: loss = 0.5219768112851955 | acc = 0.9499058067375886\n",
            "Epoch 289: loss = 0.5208050161058183 | acc = 0.9506870567375887\n",
            "Epoch 290: loss = 0.519729636522152 | acc = 0.949645390070922\n",
            "Epoch 291: loss = 0.5187548503481939 | acc = 0.9493849734042553\n",
            "Epoch 292: loss = 0.5178844026837797 | acc = 0.9491245567375887\n",
            "Epoch 293: loss = 0.5171215874586349 | acc = 0.9493849734042553\n",
            "Epoch 294: loss = 0.5164696743713958 | acc = 0.9491245567375887\n",
            "Epoch 295: loss = 0.515933549620058 | acc = 0.948864140070922\n",
            "Epoch 296: loss = 0.5155236615171456 | acc = 0.948082890070922\n",
            "Epoch 297: loss = 0.5152613156340141 | acc = 0.9478224734042553\n",
            "Epoch 298: loss = 0.515179914145941 | acc = 0.9478224734042553\n",
            "Epoch 299: loss = 0.5153190560956052 | acc = 0.9475620567375886\n",
            "Epoch 300: loss = 0.5155135678399635 | acc = 0.9470412234042553\n"
          ],
          "name": "stdout"
        }
      ]
    },
    {
      "cell_type": "markdown",
      "metadata": {
        "id": "iEWUcirNR8DV"
      },
      "source": [
        "# Prediction on Test Data set using \n",
        "Using parameters that learned from train data."
      ]
    },
    {
      "cell_type": "code",
      "metadata": {
        "id": "EUgx9JYZPchJ"
      },
      "source": [
        "def predict(X_test,y_test,parameters):\n",
        "    y_pred, _ = forward_propagation(X_test, parameters) # Find class labels\n",
        "    test_acc = accuracy(to_categorical(y_pred.T),y_test) # Calculate test accuracy\n",
        "    print(f'Test accuracy : {test_acc}')\n",
        "    return to_categorical(y_pred.T)"
      ],
      "execution_count": null,
      "outputs": []
    },
    {
      "cell_type": "markdown",
      "metadata": {
        "id": "MXJ2t1IvSBjJ"
      },
      "source": [
        "# Test Accuracy "
      ]
    },
    {
      "cell_type": "code",
      "metadata": {
        "id": "ywssIm_VLwqn",
        "colab": {
          "base_uri": "https://localhost:8080/"
        },
        "outputId": "9d6fed47-e77c-45cc-f392-529ddf1f8ea8"
      },
      "source": [
        "y_pred = predict(X_test.T,y_test,parameters)"
      ],
      "execution_count": null,
      "outputs": [
        {
          "output_type": "stream",
          "text": [
            "Test accuracy : 0.9198664440734557\n"
          ],
          "name": "stdout"
        }
      ]
    },
    {
      "cell_type": "markdown",
      "metadata": {
        "id": "0E6VdzvYSJWu"
      },
      "source": [
        "# Plot Confusion Matrix"
      ]
    },
    {
      "cell_type": "code",
      "metadata": {
        "colab": {
          "base_uri": "https://localhost:8080/",
          "height": 436
        },
        "id": "VKVdXUJeSitD",
        "outputId": "3a88308b-6ad1-4c65-ff9c-89bdabae9c07"
      },
      "source": [
        "import seaborn as sns\n",
        "from sklearn.metrics import confusion_matrix\n",
        "import matplotlib.pyplot as plt\n",
        "\n",
        "\n",
        "confusion_mat_arr = confusion_matrix(y_test.argmax(axis=1), y_pred.argmax(axis=1)) #Create a confusion matrix array\n",
        "confusion_mat_data = pd.DataFrame(confusion_mat_arr, columns=np.unique(y_pred.argmax(axis=1)), index = np.unique(y_pred.argmax(axis=1))) #Convert array to dataframe\n",
        "\n",
        "\n",
        "#Plotting Confusion matrix\n",
        "plt.figure(figsize = (10,7))\n",
        "sns.set(font_scale=1.4) #label size\n",
        "sns.heatmap(confusion_mat_data, annot=True,annot_kws={\"size\": 16},fmt='g')\n",
        "\n",
        "plt.show()"
      ],
      "execution_count": null,
      "outputs": [
        {
          "output_type": "display_data",
          "data": {
            "image/png": "[encoded data removed]",
            "text/plain": [
              "<Figure size 720x504 with 2 Axes>"
            ]
          },
          "metadata": {
            "tags": [],
            "needs_background": "light"
          }
        }
      ]
    },
    {
      "cell_type": "code",
      "metadata": {
        "id": "PHRVXT1err4y"
      },
      "source": [
        ""
      ],
      "execution_count": null,
      "outputs": []
    }
  ]
}